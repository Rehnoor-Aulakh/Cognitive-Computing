{
 "cells": [
  {
   "cell_type": "code",
   "execution_count": 1,
   "id": "8b9ead3b-d3ff-42b9-a959-c3989c606789",
   "metadata": {},
   "outputs": [
    {
     "name": "stdout",
     "output_type": "stream",
     "text": [
      "Copyright Rehnoor Aulakh\n"
     ]
    }
   ],
   "source": [
    "print(\"Copyright Rehnoor Aulakh\")"
   ]
  },
  {
   "cell_type": "code",
   "execution_count": 3,
   "id": "56264e70-1061-4eb4-b620-52282712c9da",
   "metadata": {},
   "outputs": [
    {
     "name": "stdout",
     "output_type": "stream",
     "text": [
      "30\n"
     ]
    }
   ],
   "source": [
    "a=10\n",
    "b=20\n",
    "\n",
    "print(a+b)"
   ]
  },
  {
   "cell_type": "code",
   "execution_count": 9,
   "id": "cfb883cd-3705-4348-a542-216aa5d0b9ed",
   "metadata": {},
   "outputs": [
    {
     "name": "stdout",
     "output_type": "stream",
     "text": [
      "Hello World\n"
     ]
    }
   ],
   "source": [
    "a=\"Hello\"\n",
    "b=\" World\"\n",
    "print(a+b)"
   ]
  },
  {
   "cell_type": "code",
   "execution_count": 11,
   "id": "bef2fccf-894e-4013-8acb-19316436b762",
   "metadata": {},
   "outputs": [
    {
     "name": "stdout",
     "output_type": "stream",
     "text": [
      "Hello123\n"
     ]
    }
   ],
   "source": [
    "a=\"Hello\"\n",
    "b=123\n",
    "\n",
    "print(a+str(b))"
   ]
  },
  {
   "cell_type": "code",
   "execution_count": 15,
   "id": "5b16566f-f15e-4017-ae54-24bb440822de",
   "metadata": {},
   "outputs": [
    {
     "name": "stdin",
     "output_type": "stream",
     "text": [
      "Enter a Number 10\n"
     ]
    },
    {
     "name": "stdout",
     "output_type": "stream",
     "text": [
      "Positive\n"
     ]
    }
   ],
   "source": [
    "x=int(input(\"Enter a Number\"))\n",
    "\n",
    "if(x>0):\n",
    "    print(\"Positive\")\n",
    "elif(x==0):\n",
    "    print(\"Zero\")\n",
    "else:\n",
    "    print(\"Negative\")"
   ]
  },
  {
   "cell_type": "code",
   "execution_count": 19,
   "id": "d53a137e-8423-43be-80b9-f82676fb8c8d",
   "metadata": {},
   "outputs": [
    {
     "name": "stdin",
     "output_type": "stream",
     "text": [
      "Enter a Number 1\n"
     ]
    },
    {
     "name": "stdout",
     "output_type": "stream",
     "text": [
      "Odd\n"
     ]
    }
   ],
   "source": [
    "x=int(input(\"Enter a Number\"))\n",
    "if(x%2==0):\n",
    "    print(\"Even\")\n",
    "else:\n",
    "    print(\"Odd\")"
   ]
  },
  {
   "cell_type": "code",
   "execution_count": 21,
   "id": "f526ea19-8293-41b7-a0ce-5719797d4f96",
   "metadata": {},
   "outputs": [
    {
     "name": "stdout",
     "output_type": "stream",
     "text": [
      "1\n",
      "2\n",
      "3\n",
      "4\n",
      "5\n",
      "6\n",
      "7\n",
      "8\n",
      "9\n",
      "10\n"
     ]
    }
   ],
   "source": [
    "for i in range(1,11):\n",
    "    print(i)"
   ]
  },
  {
   "cell_type": "code",
   "execution_count": 23,
   "id": "f29bdbde-346d-43e5-9dd2-69f8e7ddda26",
   "metadata": {},
   "outputs": [
    {
     "name": "stdout",
     "output_type": "stream",
     "text": [
      "1\n",
      "2\n",
      "3\n",
      "4\n",
      "5\n",
      "6\n",
      "7\n",
      "8\n",
      "9\n",
      "10\n"
     ]
    }
   ],
   "source": [
    "i=1\n",
    "while(i<=10):\n",
    "    print(i)\n",
    "    i+=1"
   ]
  },
  {
   "cell_type": "code",
   "execution_count": 25,
   "id": "cdcf5a36-67dc-4fc6-a72d-d6544343496f",
   "metadata": {},
   "outputs": [
    {
     "name": "stdout",
     "output_type": "stream",
     "text": [
      "5050\n"
     ]
    }
   ],
   "source": [
    "sum=0\n",
    "for i in range(1,101):\n",
    "    sum+=i\n",
    "\n",
    "print(sum)"
   ]
  },
  {
   "cell_type": "code",
   "execution_count": 27,
   "id": "f0fe7e1d-34e4-492f-b07b-bd550bc3f629",
   "metadata": {},
   "outputs": [
    {
     "name": "stdout",
     "output_type": "stream",
     "text": [
      "Maximum Number is  55\n",
      "Minimum Number is  11\n"
     ]
    }
   ],
   "source": [
    "nums=[12,33,11,22,44,55]\n",
    "print(\"Maximum Number is \",max(nums))\n",
    "print(\"Minimum Number is \",min(nums))"
   ]
  },
  {
   "cell_type": "code",
   "execution_count": 37,
   "id": "4d076ef8-e56e-4719-b03d-2c19065b87bf",
   "metadata": {},
   "outputs": [
    {
     "name": "stdout",
     "output_type": "stream",
     "text": [
      "Name is Rehnoor Aulakh\n",
      "Rollno is 102317137\n",
      "Age is 19\n"
     ]
    }
   ],
   "source": [
    "dict={'name':\"Rehnoor Aulakh\",'rollno':102317137,'age':19}\n",
    "print(\"Name is \"+dict['name'])\n",
    "print(\"Rollno is \"+str(dict['rollno']))\n",
    "print(\"Age is \"+str(dict['age']))"
   ]
  },
  {
   "cell_type": "code",
   "execution_count": 39,
   "id": "1edcbc27-2725-4e27-988d-9fb280ee38e5",
   "metadata": {},
   "outputs": [
    {
     "name": "stdout",
     "output_type": "stream",
     "text": [
      "[11, 12, 22, 33, 44, 55]\n",
      "[55, 44, 33, 22, 12, 11]\n"
     ]
    }
   ],
   "source": [
    "nums=[12,33,11,22,44,55]\n",
    "\n",
    "nums2=nums\n",
    "nums2.sort()\n",
    "print(nums2)\n",
    "nums2.sort(reverse=True)\n",
    "print(nums2)"
   ]
  },
  {
   "cell_type": "code",
   "execution_count": 53,
   "id": "d8cc815d-4e3b-4dea-9237-5b4f1ccbe60c",
   "metadata": {},
   "outputs": [
    {
     "name": "stdout",
     "output_type": "stream",
     "text": [
      "{'name': 'Rehnoor Aulakh', 'rollno': 102317137, 'age': 19, 'class': '2Q16', 'branch': 'COPC'}\n",
      "{'name': 'Rehnoor Aulakh', 'rollno': 102317137, 'age': 19, 'class': '2Q16', 'branch': 'COPC'}\n",
      "{'name': 'Rehnoor Aulakh', 'rollno': 102317137, 'age': 19, 'class': '2Q16', 'branch': 'COPC'}\n"
     ]
    }
   ],
   "source": [
    "d1={'name':\"Rehnoor Aulakh\",'rollno':102317137,'age':19}\n",
    "d2={'class':'2Q16','branch':'COPC'}\n",
    "#these 2 dictionaries can be merges in many ways\n",
    "\n",
    "d3=d1|d2\n",
    "print(d3)\n",
    "\n",
    "d4=d1.copy()\n",
    "for key,value in d2.items():\n",
    "    d4[key]=value\n",
    "print(d4)\n",
    "\n",
    "d1.update(d2)\n",
    "print(d1)"
   ]
  },
  {
   "cell_type": "code",
   "execution_count": 55,
   "id": "a9d7ccd5-744e-44e7-b20c-edc243b7dda5",
   "metadata": {},
   "outputs": [
    {
     "name": "stdout",
     "output_type": "stream",
     "text": [
      "Number of vowels in string is 11\n"
     ]
    }
   ],
   "source": [
    "#Counting the number of vowels in a string\n",
    "count=0\n",
    "string=\"Hello, My name is Rehnoor Aulakh\"\n",
    "for i in string:\n",
    "    if(i in 'aeiouAEIOU'):\n",
    "        count+=1\n",
    "print(\"Number of vowels in string is \"+str(count))"
   ]
  },
  {
   "cell_type": "code",
   "execution_count": 57,
   "id": "be08201b-0cd2-4e4b-896d-b8fc7746f8fe",
   "metadata": {},
   "outputs": [
    {
     "name": "stdout",
     "output_type": "stream",
     "text": [
      "hkaluA roonheR si eman yM ,olleH\n"
     ]
    }
   ],
   "source": [
    "string=\"Hello, My name is Rehnoor Aulakh\"[::-1]\n",
    "print(string)"
   ]
  },
  {
   "cell_type": "code",
   "execution_count": 63,
   "id": "241f3228-f2e1-42d2-9e77-447feea8e378",
   "metadata": {},
   "outputs": [
    {
     "name": "stdout",
     "output_type": "stream",
     "text": [
      "Palindrome\n"
     ]
    }
   ],
   "source": [
    "#program to check whether string is palindrome or not\n",
    "string=\"naman\"\n",
    "\n",
    "if(string[::-1]==string):\n",
    "    print(\"Palindrome\")\n",
    "else:\n",
    "    print(\"Not a Palindrome\")"
   ]
  },
  {
   "cell_type": "code",
   "execution_count": 65,
   "id": "17c1cddd-eaa9-4105-97ee-87a1bba915bd",
   "metadata": {},
   "outputs": [
    {
     "name": "stdout",
     "output_type": "stream",
     "text": [
      "Hello World\n"
     ]
    }
   ],
   "source": [
    "file=open(\"myfile.txt\",\"w\")\n",
    "file.write(\"Hello World\")\n",
    "file=open(\"myfile.txt\",\"r\")\n",
    "content=file.read()\n",
    "print(content)\n",
    "file.close()"
   ]
  },
  {
   "cell_type": "code",
   "execution_count": 69,
   "id": "66ea6f3f-3537-4dba-9a93-93058666edff",
   "metadata": {},
   "outputs": [
    {
     "name": "stdout",
     "output_type": "stream",
     "text": [
      "Hello World, Nice to meet you\n"
     ]
    }
   ],
   "source": [
    "file=open(\"myfile.txt\",\"a\")\n",
    "file.write(\", Nice to meet you\")\n",
    "file=open(\"myfile.txt\",\"r\")\n",
    "content=file.read()\n",
    "print(content)\n",
    "file.close()"
   ]
  },
  {
   "cell_type": "code",
   "execution_count": 81,
   "id": "006d9242-3014-43a4-bdfe-469c74c0c9f8",
   "metadata": {},
   "outputs": [
    {
     "name": "stdout",
     "output_type": "stream",
     "text": [
      "Hello World\n",
      "How are you\n",
      "Nice to meet you\n",
      "\n",
      "Number of lines are 3\n"
     ]
    }
   ],
   "source": [
    "file=open(\"myfile.txt\",\"w\")\n",
    "file.write(\"Hello World\\nHow are you\\nNice to meet you\\n\")\n",
    "file=open(\"myfile.txt\",\"r\")\n",
    "content=file.read()\n",
    "print(content)\n",
    "count=0\n",
    "for i in content:\n",
    "    if(i=='\\n'):\n",
    "        count+=1\n",
    "print(\"Number of lines are \"+str(count))"
   ]
  },
  {
   "cell_type": "code",
   "execution_count": 89,
   "id": "2898f482-4d59-43e2-8443-4ca32720b2ab",
   "metadata": {},
   "outputs": [
    {
     "name": "stdout",
     "output_type": "stream",
     "text": [
      "Cannot be divided by zero\n"
     ]
    }
   ],
   "source": [
    "#exception handling division by zero\n",
    "\n",
    "a=10\n",
    "b=0\n",
    "try:\n",
    "    print(a/b)\n",
    "except:\n",
    "    print(\"Cannot be divided by zero\")\n",
    "    \n",
    "\n",
    "    "
   ]
  },
  {
   "cell_type": "code",
   "execution_count": 95,
   "id": "48750098-6219-4399-87e9-0116425c54fb",
   "metadata": {},
   "outputs": [
    {
     "name": "stdin",
     "output_type": "stream",
     "text": [
      "Enter a Number 1\n"
     ]
    }
   ],
   "source": [
    "try:\n",
    "    x=int(input(\"Enter a Number\"))\n",
    "except:\n",
    "    print(\"Number expected!!!\")"
   ]
  },
  {
   "cell_type": "code",
   "execution_count": 103,
   "id": "23e0f822-d222-4e0e-b9df-f7cb32810c43",
   "metadata": {},
   "outputs": [
    {
     "name": "stdout",
     "output_type": "stream",
     "text": [
      "File opened successfully\n",
      "File written successfully\n"
     ]
    }
   ],
   "source": [
    "try:\n",
    "    file=open(\"myfile.txt\",\"w\")\n",
    "    print(\"File opened successfully\")\n",
    "    try:\n",
    "        file.write(\"Hello World\")\n",
    "        print(\"File written successfully\")\n",
    "    except:\n",
    "        print(\"Unable to write to file\")\n",
    "except:\n",
    "    print(\"Unable to open file\")\n",
    "finally:\n",
    "    file.close()"
   ]
  },
  {
   "cell_type": "code",
   "execution_count": 163,
   "id": "b699f2b9-538a-41fc-b000-32d10d7a81a5",
   "metadata": {},
   "outputs": [
    {
     "name": "stdout",
     "output_type": "stream",
     "text": [
      "15\n",
      "14\n",
      "1\n",
      "3\n",
      "65\n"
     ]
    }
   ],
   "source": [
    "import random\n",
    "#generating 5 random numbers between 1 and 100 and printing them\n",
    "for i in range(1,6):\n",
    "    x=random.randint(1,100)\n",
    "    print(x)"
   ]
  },
  {
   "cell_type": "code",
   "execution_count": 116,
   "id": "2bbc44c5-4495-44ad-94be-3614cf95cb62",
   "metadata": {},
   "outputs": [
    {
     "name": "stdout",
     "output_type": "stream",
     "text": [
      "71 is prime\n"
     ]
    }
   ],
   "source": [
    "x=random.randint(1,100)\n",
    "#check if it is prime\n",
    "flag=True\n",
    "for i in range(2,x):\n",
    "    if(x%i==0):\n",
    "        print(str(x)+\" is not prime\")\n",
    "        flag=False\n",
    "        break\n",
    "\n",
    "if(flag):\n",
    "    print(str(x)+\" is prime\")"
   ]
  },
  {
   "cell_type": "code",
   "execution_count": 161,
   "id": "b81332fd-bacb-43e8-9695-ad25fe2e40d5",
   "metadata": {},
   "outputs": [
    {
     "name": "stdout",
     "output_type": "stream",
     "text": [
      "1\n"
     ]
    }
   ],
   "source": [
    "#Rolling a die means generating a random number between 1 and 6\n",
    "x=random.randint(1,6)\n",
    "print(str(x))"
   ]
  },
  {
   "cell_type": "code",
   "execution_count": 173,
   "id": "9d21bc26-bcc3-4fec-b271-8caf15c06c0f",
   "metadata": {},
   "outputs": [
    {
     "name": "stdout",
     "output_type": "stream",
     "text": [
      "[70, 40, 80, 20, 30, 50, 10, 60]\n"
     ]
    }
   ],
   "source": [
    "#shuffling a list of numbers\n",
    "list=[10,20,30,40,50,60,70,80]\n",
    "random.shuffle(list)\n",
    "print(list)"
   ]
  },
  {
   "cell_type": "code",
   "execution_count": 157,
   "id": "3b6a06a4-369b-4b5f-870e-3a1afef4d80b",
   "metadata": {},
   "outputs": [
    {
     "name": "stdout",
     "output_type": "stream",
     "text": [
      "10\n"
     ]
    }
   ],
   "source": [
    "#selecting an element randomly from a list\n",
    "list=[10,20,30,40,50,60,70,80]\n",
    "x=random.randint(0,len(list)-1)\n",
    "print(list[x])"
   ]
  },
  {
   "cell_type": "code",
   "execution_count": 181,
   "id": "4808129f-2376-4f8d-86fe-4b2941945601",
   "metadata": {},
   "outputs": [
    {
     "name": "stdin",
     "output_type": "stream",
     "text": [
      "Enter the length of password:  111\n"
     ]
    },
    {
     "name": "stdout",
     "output_type": "stream",
     "text": [
      "\"'2Z\\@)]*x;Pi~[;'k.keOgZ!h.1i[Y7r)Td-Jh?np*KN-SKqc8d#PCuzSx(en1cs^XG[vk43Xes]9A%<UK_m^w.,w2=sAcs_}=oNLM\\|SXOrMX\n"
     ]
    }
   ],
   "source": [
    "import random \n",
    "import string\n",
    "\n",
    "length=int(input(\"Enter the length of password: \"))\n",
    "if length<4:\n",
    "    print(\"Length should be greater than 4 for secure password\")\n",
    "else:\n",
    "    letters=string.ascii_letters\n",
    "    digits=string.digits\n",
    "    special_chars=string.punctuation\n",
    "    #at least one char from each \n",
    "    password=[\n",
    "        random.choice(letters),\n",
    "        random.choice(digits),\n",
    "        random.choice(special_chars),\n",
    "        random.choice(letters.upper())\n",
    "    ]\n",
    "    all_chars=letters+digits+special_chars\n",
    "    password+=random.choices(all_chars,k=length-4)\n",
    "    random.shuffle(password)\n",
    "    print(''.join(password))\n"
   ]
  },
  {
   "cell_type": "code",
   "execution_count": 183,
   "id": "9cb9d91d-52b6-4273-9ce8-4322a5ca4963",
   "metadata": {},
   "outputs": [
    {
     "name": "stdout",
     "output_type": "stream",
     "text": [
      "Randomly picked card: 2 of Clubs\n"
     ]
    }
   ],
   "source": [
    "ranks = ['2', '3', '4', '5', '6', '7', '8', '9', '10', 'J', 'Q', 'K', 'A']\n",
    "suits = ['Hearts', 'Diamonds', 'Clubs', 'Spades']\n",
    "\n",
    "rank = random.choice(ranks)\n",
    "suit = random.choice(suits)\n",
    "\n",
    "card = f\"{rank} of {suit}\"\n",
    "\n",
    "print(\"Randomly picked card:\", card)"
   ]
  },
  {
   "cell_type": "code",
   "execution_count": 186,
   "id": "c1f57c79-9da8-42e2-b25a-ab4f6fad1fa6",
   "metadata": {},
   "outputs": [
    {
     "name": "stdin",
     "output_type": "stream",
     "text": [
      "Enter a number 10\n",
      "Enter another number 20\n"
     ]
    },
    {
     "name": "stdout",
     "output_type": "stream",
     "text": [
      "Sum is  30\n"
     ]
    }
   ],
   "source": [
    "x=int(input(\"Enter a number\"))\n",
    "y=int(input(\"Enter another number\"))\n",
    "print(\"Sum is \",x+y)"
   ]
  },
  {
   "cell_type": "code",
   "execution_count": 188,
   "id": "0a12c8aa-0d7a-4fd1-8e06-dee183484cb8",
   "metadata": {},
   "outputs": [
    {
     "name": "stdin",
     "output_type": "stream",
     "text": [
      "Enter a string sadlfjsda\n"
     ]
    },
    {
     "name": "stdout",
     "output_type": "stream",
     "text": [
      "Your string is  sadlfjsda\n",
      "Length of string is 9\n"
     ]
    }
   ],
   "source": [
    "x=input(\"Enter a string\")\n",
    "print(\"Your string is \",x)\n",
    "print(\"Length of string is\",len(x))"
   ]
  },
  {
   "cell_type": "code",
   "execution_count": 192,
   "id": "a1cbed66-351d-44ff-90f6-dc0330f2d8da",
   "metadata": {},
   "outputs": [
    {
     "name": "stdin",
     "output_type": "stream",
     "text": [
      "Enter a Number 100\n"
     ]
    },
    {
     "name": "stdout",
     "output_type": "stream",
     "text": [
      "Square root of  100  is  10.0\n"
     ]
    }
   ],
   "source": [
    "import math\n",
    "x=int(input(\"Enter a Number\"))\n",
    "print(\"Square root of \",x,\" is \",math.sqrt(x))"
   ]
  },
  {
   "cell_type": "code",
   "execution_count": 196,
   "id": "e433ec1b-d920-4c06-8784-601b9dbf275d",
   "metadata": {},
   "outputs": [
    {
     "name": "stdout",
     "output_type": "stream",
     "text": [
      "2025-01-13 10:08:59.174303\n"
     ]
    }
   ],
   "source": [
    "import datetime\n",
    "\n",
    "date=datetime.datetime.today()\n",
    "print(date)"
   ]
  },
  {
   "cell_type": "code",
   "execution_count": 206,
   "id": "b5016a61-5a89-46ca-b544-87b614c2953f",
   "metadata": {},
   "outputs": [
    {
     "name": "stdout",
     "output_type": "stream",
     "text": [
      "Files in the current directory:\n",
      "Untitled.ipynb\n",
      "myfile.txt\n",
      ".ipynb_checkpoints\n",
      "Questions_for_introductory_Python_programming.pdf\n"
     ]
    }
   ],
   "source": [
    "import os\n",
    "\n",
    "# List all files in the current directory\n",
    "files = os.listdir()\n",
    "\n",
    "print(\"Files in the current directory:\")\n",
    "for file in files:\n",
    "    print(file)"
   ]
  },
  {
   "cell_type": "code",
   "execution_count": null,
   "id": "da190f34-8ea7-4dcb-98e2-95a0aa0ce068",
   "metadata": {},
   "outputs": [],
   "source": []
  }
 ],
 "metadata": {
  "kernelspec": {
   "display_name": "Python 3 (ipykernel)",
   "language": "python",
   "name": "python3"
  },
  "language_info": {
   "codemirror_mode": {
    "name": "ipython",
    "version": 3
   },
   "file_extension": ".py",
   "mimetype": "text/x-python",
   "name": "python",
   "nbconvert_exporter": "python",
   "pygments_lexer": "ipython3",
   "version": "3.12.4"
  }
 },
 "nbformat": 4,
 "nbformat_minor": 5
}
