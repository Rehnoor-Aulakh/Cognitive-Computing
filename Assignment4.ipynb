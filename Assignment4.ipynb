{
 "cells": [
  {
   "metadata": {},
   "cell_type": "markdown",
   "source": "Q1",
   "id": "f950d9295eb2cc2c"
  },
  {
   "cell_type": "code",
   "id": "initial_id",
   "metadata": {
    "collapsed": true,
    "ExecuteTime": {
     "end_time": "2025-02-03T04:24:56.551053Z",
     "start_time": "2025-02-03T04:24:56.544739Z"
    }
   },
   "source": [
    "import numpy as np\n",
    "\n",
    "arr=np.array([10,20,30,40,50])\n",
    "narr=arr+2\n",
    "print(narr)\n",
    "narr=arr*3\n",
    "print(narr)\n",
    "narr=arr/2\n",
    "print(narr)"
   ],
   "outputs": [
    {
     "name": "stdout",
     "output_type": "stream",
     "text": [
      "[12 22 32 42 52]\n",
      "[ 30  60  90 120 150]\n",
      "[ 5. 10. 15. 20. 25.]\n"
     ]
    }
   ],
   "execution_count": 4
  },
  {
   "metadata": {},
   "cell_type": "markdown",
   "source": "Q2",
   "id": "2b7278443badda1a"
  },
  {
   "metadata": {
    "ExecuteTime": {
     "end_time": "2025-02-03T04:43:29.230474Z",
     "start_time": "2025-02-03T04:43:29.213196Z"
    }
   },
   "cell_type": "code",
   "source": [
    "arr = np.array([1, 2, 3, 6, 4, 5])\n",
    "narr=np.flip(arr)\n",
    "print(narr)\n",
    "\n",
    "x = np.array([1,2,3,4,5,1,2,1,1,1])\n",
    "freq=np.bincount(x)\n",
    "print(freq)\n",
    "most_freq_val=freq.argmax()\n",
    "print(\"Most frequent value is: \"+str(most_freq_val))\n",
    "indices=np.where(x==most_freq_val)[0]\n",
    "print(indices)\n",
    "\n",
    "y= np.array([1, 1, 1, 2, 3, 4, 2, 4, 3, 3])\n",
    "unique,counts=np.unique(y,return_counts=True)\n",
    "print(unique)\n",
    "print(counts)\n",
    "most_freq_val=unique[np.argmax(counts)]\n",
    "print(most_freq_val)\n",
    "\n",
    "indices=np.where(y==most_freq_val)[0]\n",
    "print(indices)\n",
    " \n"
   ],
   "id": "2f47b2bdd257aff1",
   "outputs": [
    {
     "name": "stdout",
     "output_type": "stream",
     "text": [
      "[5 4 6 3 2 1]\n",
      "[0 5 2 1 1 1]\n",
      "Most frequent value is: 1\n",
      "[0 5 7 8 9]\n",
      "[1 2 3 4]\n",
      "[3 2 3 2]\n",
      "1\n",
      "[0 1 2]\n"
     ]
    }
   ],
   "execution_count": 32
  },
  {
   "metadata": {},
   "cell_type": "markdown",
   "source": "Q3",
   "id": "edfae2efc4af9f21"
  },
  {
   "metadata": {},
   "cell_type": "code",
   "outputs": [],
   "execution_count": null,
   "source": [
    "arr = np.array([[10, 20, 30], [40, 50, 60], [70, 80, 90]])\n",
    "\n",
    "print(arr[0][1])\n",
    "# printing 1st row, 2nd column\n",
    "\n",
    "\n",
    "print(arr[2][0]) # printing 3rd row, 1st column\n"
   ],
   "id": "c299de204412f4d3"
  },
  {
   "metadata": {},
   "cell_type": "markdown",
   "source": "Q4",
   "id": "e6085a535664e0d3"
  },
  {
   "metadata": {},
   "cell_type": "code",
   "outputs": [],
   "execution_count": null,
   "source": [
    "import numpy as np\n",
    "\n",
    "array=np.linspace(10,100,num=25)\n",
    "\n",
    "print(array)\n",
    "\n",
    "print(np.shape(array))\n",
    "\n",
    "print(np.count_nonzero(array))\n",
    "\n",
    "print(np.size(array))\n",
    "\n",
    "print(array.dtype)\n",
    "\n",
    "print(array.nbytes)\n",
    "\n",
    "print(array.reshape(np.size(array),1))\n",
    "\n",
    "print(array.T)"
   ],
   "id": "b20fcd0c8eee941f"
  },
  {
   "metadata": {},
   "cell_type": "markdown",
   "source": "Q5",
   "id": "b5f8875c7717abe9"
  },
  {
   "metadata": {},
   "cell_type": "code",
   "outputs": [],
   "execution_count": null,
   "source": [
    "import numpy as np\n",
    "ucs420_Rehnoor = np.array([[10, 20, 30, 40], [50, 60, 70, 80], [90, 15, 20, 35]])\n",
    "\n",
    "print(ucs420_Rehnoor.mean()) #mean\n",
    "# finding median\n",
    "print(np.median(ucs420_Rehnoor))\n",
    "print(ucs420_Rehnoor.max())# max\n",
    "print(ucs420_Rehnoor.min()) # min\n",
    "print(np.unique(ucs420_Rehnoor)) #unique\n"
   ],
   "id": "e85461092a8545d1"
  },
  {
   "metadata": {},
   "cell_type": "code",
   "outputs": [],
   "execution_count": null,
   "source": [
    "import numpy as np\n",
    "reshaped_ucs420_Rehnoor = ucs420_Rehnoor.reshape((4,3))\n",
    "print('Reshaped: ',reshaped_ucs420_Rehnoor)\n",
    "\n",
    "resized_ucs420_Rehnoor = np.resize(ucs420_Rehnoor,(2,3))\n",
    "print('Resized: ',resized_ucs420_Rehnoor)"
   ],
   "id": "a3b9ea81dfbd4d46"
  }
 ],
 "metadata": {
  "kernelspec": {
   "display_name": "Python 3",
   "language": "python",
   "name": "python3"
  },
  "language_info": {
   "codemirror_mode": {
    "name": "ipython",
    "version": 2
   },
   "file_extension": ".py",
   "mimetype": "text/x-python",
   "name": "python",
   "nbconvert_exporter": "python",
   "pygments_lexer": "ipython2",
   "version": "2.7.6"
  }
 },
 "nbformat": 4,
 "nbformat_minor": 5
}
