{
  "nbformat": 4,
  "nbformat_minor": 0,
  "metadata": {
    "colab": {
      "provenance": []
    },
    "kernelspec": {
      "name": "python3",
      "display_name": "Python 3"
    },
    "language_info": {
      "name": "python"
    }
  },
  "cells": [
    {
      "cell_type": "markdown",
      "source": [
        "# **Assignment-9**"
      ],
      "metadata": {
        "id": "0XixtaEhWl3s"
      }
    },
    {
      "cell_type": "code",
      "execution_count": 1,
      "metadata": {
        "colab": {
          "base_uri": "https://localhost:8080/"
        },
        "id": "V_QI4LL9U8FP",
        "outputId": "2e5699b0-09c8-484f-b998-afcc39deb299"
      },
      "outputs": [
        {
          "output_type": "stream",
          "name": "stderr",
          "text": [
            "[nltk_data] Downloading package punkt to /root/nltk_data...\n",
            "[nltk_data]   Unzipping tokenizers/punkt.zip.\n",
            "[nltk_data] Downloading package stopwords to /root/nltk_data...\n",
            "[nltk_data]   Unzipping corpora/stopwords.zip.\n",
            "[nltk_data] Downloading package wordnet to /root/nltk_data...\n"
          ]
        },
        {
          "output_type": "execute_result",
          "data": {
            "text/plain": [
              "True"
            ]
          },
          "metadata": {},
          "execution_count": 1
        }
      ],
      "source": [
        "import re\n",
        "import nltk\n",
        "from nltk.tokenize import word_tokenize, sent_tokenize\n",
        "from nltk.corpus import stopwords\n",
        "from nltk.stem import PorterStemmer, LancasterStemmer, WordNetLemmatizer\n",
        "from collections import Counter\n",
        "\n",
        "nltk.download('punkt')\n",
        "nltk.download('stopwords')\n",
        "nltk.download('wordnet')"
      ]
    },
    {
      "cell_type": "markdown",
      "source": [
        "# **Q1 (i) Part**"
      ],
      "metadata": {
        "id": "GUaRIALmVuHr"
      }
    },
    {
      "cell_type": "code",
      "source": [
        "paragraph = \"Steve Cohen is a prominent American billionaire and hedge fund manager, best known as the founder and CEO of Point72 Asset Management, a global multi-strategy investment firm. He launched his first major hedge fund, SAC Capital Advisors, in 1992, achieving remarkable returns and earning a reputation as one of Wall Street's most successful traders. Despite SAC Capital's impressive performance, the firm was ultimately shut down after pleading guilty to insider trading charges in 2013, resulting in $1.8 billion in fines, though Cohen himself was never personally charged. After a period during which he was barred from managing outside money, Cohen re-emerged by transforming his operations into Point72, which now manages billions in assets and serves clients worldwide. Beyond finance, Cohen is also known for his philanthropy, extensive modern art collection, and as the owner and CEO of Major League Baseball's New York Mets, reflecting his wide-ranging influence in both business and culture\"\n",
        "lowercase_text = paragraph.lower()\n",
        "no_punct_text = re.sub(r'[^\\w\\s]', '', lowercase_text)\n",
        "print(no_punct_text[:100], \"...\")"
      ],
      "metadata": {
        "colab": {
          "base_uri": "https://localhost:8080/"
        },
        "id": "d1xhT-OUVFC-",
        "outputId": "6cf2f245-99bf-405e-851b-55f510aa40b9"
      },
      "execution_count": 2,
      "outputs": [
        {
          "output_type": "stream",
          "name": "stdout",
          "text": [
            "steve cohen is a prominent american billionaire and hedge fund manager best known as the founder and ...\n"
          ]
        }
      ]
    },
    {
      "cell_type": "markdown",
      "source": [
        "# **Q1 (ii) Part**"
      ],
      "metadata": {
        "id": "3-7ihALFV3eX"
      }
    },
    {
      "cell_type": "code",
      "source": [
        "nltk.download('punkt_tab')\n",
        "sentences = sent_tokenize(paragraph)\n",
        "words = word_tokenize(no_punct_text)"
      ],
      "metadata": {
        "colab": {
          "base_uri": "https://localhost:8080/"
        },
        "id": "P5wSeX1AVK-9",
        "outputId": "c979dfeb-714a-42a4-d018-cbfbce957652"
      },
      "execution_count": 3,
      "outputs": [
        {
          "output_type": "stream",
          "name": "stderr",
          "text": [
            "[nltk_data] Downloading package punkt_tab to /root/nltk_data...\n",
            "[nltk_data]   Unzipping tokenizers/punkt_tab.zip.\n"
          ]
        }
      ]
    },
    {
      "cell_type": "markdown",
      "source": [
        "# **Q1 (iii) Part**"
      ],
      "metadata": {
        "id": "EJ9DcdjOV55C"
      }
    },
    {
      "cell_type": "code",
      "source": [
        "stop_words = set(stopwords.words('english'))\n",
        "filtered_words = [word for word in words if word not in stop_words]"
      ],
      "metadata": {
        "id": "wo6G3beXVNn9"
      },
      "execution_count": 4,
      "outputs": []
    },
    {
      "cell_type": "markdown",
      "source": [
        "# **Q1 (iv) Part**"
      ],
      "metadata": {
        "id": "gxZuOw5sV8dX"
      }
    },
    {
      "cell_type": "code",
      "source": [
        "word_freq = Counter(filtered_words)\n",
        "for word, count in word_freq.most_common(10):\n",
        "    print(f\"{word}: {count}\")"
      ],
      "metadata": {
        "colab": {
          "base_uri": "https://localhost:8080/"
        },
        "id": "h2Od4fQpVPlz",
        "outputId": "dfa0fc0a-b27d-442d-cc4a-85ba864d1e86"
      },
      "execution_count": 5,
      "outputs": [
        {
          "output_type": "stream",
          "name": "stdout",
          "text": [
            "cohen: 4\n",
            "hedge: 2\n",
            "fund: 2\n",
            "known: 2\n",
            "ceo: 2\n",
            "point72: 2\n",
            "firm: 2\n",
            "major: 2\n",
            "sac: 2\n",
            "steve: 1\n"
          ]
        }
      ]
    },
    {
      "cell_type": "markdown",
      "source": [
        "# **Q2**"
      ],
      "metadata": {
        "id": "X7YG4juaV-lW"
      }
    },
    {
      "cell_type": "code",
      "source": [
        "from nltk.stem import PorterStemmer, LancasterStemmer, WordNetLemmatizer\n",
        "porter = PorterStemmer()\n",
        "lancaster = LancasterStemmer()"
      ],
      "metadata": {
        "id": "XPpujv_5VRVf"
      },
      "execution_count": 6,
      "outputs": []
    },
    {
      "cell_type": "code",
      "source": [
        "lemmatizer = WordNetLemmatizer()"
      ],
      "metadata": {
        "id": "JalTFtcSVS_x"
      },
      "execution_count": 7,
      "outputs": []
    },
    {
      "cell_type": "code",
      "source": [
        "for word in filtered_words[:10]:\n",
        "    porter_result = porter.stem(word)\n",
        "    lancaster_result = lancaster.stem(word)\n",
        "    lemma_result = lemmatizer.lemmatize(word)\n",
        "    print(f\"{word}\\t{porter_result}\\t{lancaster_result}\\t{lemma_result}\")"
      ],
      "metadata": {
        "colab": {
          "base_uri": "https://localhost:8080/"
        },
        "id": "0spII16kVUwt",
        "outputId": "2aac10c7-f604-41a7-c659-eb9b0da5b6d0"
      },
      "execution_count": 8,
      "outputs": [
        {
          "output_type": "stream",
          "name": "stdout",
          "text": [
            "steve\tsteve\tstev\tsteve\n",
            "cohen\tcohen\tcoh\tcohen\n",
            "prominent\tpromin\tpromin\tprominent\n",
            "american\tamerican\tam\tamerican\n",
            "billionaire\tbillionair\tbillionair\tbillionaire\n",
            "hedge\thedg\thedg\thedge\n",
            "fund\tfund\tfund\tfund\n",
            "manager\tmanag\tman\tmanager\n",
            "best\tbest\tbest\tbest\n",
            "known\tknown\tknown\tknown\n"
          ]
        }
      ]
    },
    {
      "cell_type": "markdown",
      "source": [
        "# **Q3**"
      ],
      "metadata": {
        "id": "w4-Zl800WhhP"
      }
    },
    {
      "cell_type": "code",
      "source": [
        "long_words = re.findall(r'\\b\\w{6,}\\b', paragraph)\n",
        "print(long_words[:15])\n",
        "numbers = re.findall(r'\\d+\\.?\\d*', paragraph)\n",
        "print(numbers)\n",
        "cap_words = re.findall(r'\\b[A-Z][a-zA-Z]*\\b', paragraph)\n",
        "print(cap_words)"
      ],
      "metadata": {
        "colab": {
          "base_uri": "https://localhost:8080/"
        },
        "id": "2bANTmDSVWtI",
        "outputId": "ad0d764a-25ef-44f7-b8d8-8bf3988b0f41"
      },
      "execution_count": 9,
      "outputs": [
        {
          "output_type": "stream",
          "name": "stdout",
          "text": [
            "['prominent', 'American', 'billionaire', 'manager', 'founder', 'Point72', 'Management', 'global', 'strategy', 'investment', 'launched', 'Capital', 'Advisors', 'achieving', 'remarkable']\n",
            "['72', '1992', '2013', '1.8', '72']\n",
            "['Steve', 'Cohen', 'American', 'CEO', 'Asset', 'Management', 'He', 'SAC', 'Capital', 'Advisors', 'Wall', 'Street', 'Despite', 'SAC', 'Capital', 'Cohen', 'After', 'Cohen', 'Beyond', 'Cohen', 'CEO', 'Major', 'League', 'Baseball', 'New', 'York', 'Mets']\n"
          ]
        }
      ]
    },
    {
      "cell_type": "code",
      "source": [
        "alpha_only = re.findall(r'\\b[a-zA-Z]+\\b', paragraph)\n",
        "print(alpha_only[:15])\n",
        "vowel_words = re.findall(r'\\b[aeiouAEIOU][a-zA-Z]*\\b', paragraph)\n",
        "print(vowel_words)"
      ],
      "metadata": {
        "colab": {
          "base_uri": "https://localhost:8080/"
        },
        "id": "0aIFfIHyVZ16",
        "outputId": "25d377f7-ab19-4c4d-ecda-4de44bdd7f20"
      },
      "execution_count": 10,
      "outputs": [
        {
          "output_type": "stream",
          "name": "stdout",
          "text": [
            "['Steve', 'Cohen', 'is', 'a', 'prominent', 'American', 'billionaire', 'and', 'hedge', 'fund', 'manager', 'best', 'known', 'as', 'the']\n",
            "['is', 'a', 'American', 'and', 'as', 'and', 'of', 'Asset', 'a', 'investment', 'Advisors', 'in', 'achieving', 'and', 'earning', 'a', 'as', 'one', 'of', 'impressive', 'ultimately', 'after', 'insider', 'in', 'in', 'in', 'After', 'a', 'outside', 'emerged', 'operations', 'into', 'in', 'assets', 'and', 'is', 'also', 'extensive', 'art', 'and', 'as', 'owner', 'and', 'of', 'influence', 'in', 'and']\n"
          ]
        }
      ]
    },
    {
      "cell_type": "markdown",
      "source": [
        "# **Q4 (i) Part**"
      ],
      "metadata": {
        "id": "Ik5MKzYlWT1O"
      }
    },
    {
      "cell_type": "code",
      "source": [
        "text_sample = paragraph + \" His email is steve.cohen@example.com. Check out https://www.point72.com. Call at 123-456-7890 or +91 9876543210. The firm's value is $3.14 billion.\""
      ],
      "metadata": {
        "id": "CeeErn5VVbcQ"
      },
      "execution_count": 11,
      "outputs": []
    },
    {
      "cell_type": "markdown",
      "source": [
        "# **Q4 (ii) Part**"
      ],
      "metadata": {
        "id": "lyHwoeHRWV05"
      }
    },
    {
      "cell_type": "code",
      "source": [
        "def custom_tokenize(text):\n",
        "    text_temp = re.sub(r\"(\\w+)'(\\w+)\", r\"\\1'\\2\", text)\n",
        "    text_temp = re.sub(r\"(\\w+)-(\\w+)(-(\\w+))?\", lambda m: m.group(0).replace(\"-\", \"HYPHEN\"), text_temp)\n",
        "    text_temp = re.sub(r\"(\\d+)\\.(\\d+)\", lambda m: m.group(0).replace(\".\", \"DECIMAL\"), text_temp)\n",
        "    text_temp = re.sub(r'[^\\w\\s]', ' ', text_temp)\n",
        "    tokens = text_temp.split()\n",
        "    tokens = [token.replace(\"HYPHEN\", \"-\").replace(\"DECIMAL\", \".\") for token in tokens]\n",
        "\n",
        "    return tokens\n",
        "custom_tokens = custom_tokenize(text_sample)\n",
        "print(custom_tokens[:15])"
      ],
      "metadata": {
        "colab": {
          "base_uri": "https://localhost:8080/"
        },
        "id": "BOz43sgKViie",
        "outputId": "ed0a91c1-4525-494a-ea5a-517d8ee5124e"
      },
      "execution_count": 12,
      "outputs": [
        {
          "output_type": "stream",
          "name": "stdout",
          "text": [
            "['Steve', 'Cohen', 'is', 'a', 'prominent', 'American', 'billionaire', 'and', 'hedge', 'fund', 'manager', 'best', 'known', 'as', 'the']\n"
          ]
        }
      ]
    },
    {
      "cell_type": "markdown",
      "source": [
        "# **Q4 (iii) Part**"
      ],
      "metadata": {
        "id": "lgi9W2p6WYZ5"
      }
    },
    {
      "cell_type": "code",
      "source": [
        "email_pattern = r'\\b[A-Za-z0-9._%+-]+@[A-Za-z0-9.-]+\\.[A-Z|a-z]{2,}\\b'\n",
        "email_replaced = re.sub(email_pattern, '', text_sample)\n",
        "url_pattern = r'https?://(?:[-\\w.]|(?:%[\\da-fA-F]{2}))+'\n",
        "url_replaced = re.sub(url_pattern, '', email_replaced)\n",
        "\n",
        "phone_pattern = r'(\\+\\d{1,3}\\s\\d{10}|\\d{3}-\\d{3}-\\d{4})'\n",
        "phone_replaced = re.sub(phone_pattern, '', url_replaced)\n",
        "\n",
        "print(phone_replaced)"
      ],
      "metadata": {
        "colab": {
          "base_uri": "https://localhost:8080/"
        },
        "id": "5wMBKVfqVku6",
        "outputId": "c314b233-1505-4769-b339-ab55f18b8571"
      },
      "execution_count": 13,
      "outputs": [
        {
          "output_type": "stream",
          "name": "stdout",
          "text": [
            "Steve Cohen is a prominent American billionaire and hedge fund manager, best known as the founder and CEO of Point72 Asset Management, a global multi-strategy investment firm. He launched his first major hedge fund, SAC Capital Advisors, in 1992, achieving remarkable returns and earning a reputation as one of Wall Street's most successful traders. Despite SAC Capital's impressive performance, the firm was ultimately shut down after pleading guilty to insider trading charges in 2013, resulting in $1.8 billion in fines, though Cohen himself was never personally charged. After a period during which he was barred from managing outside money, Cohen re-emerged by transforming his operations into Point72, which now manages billions in assets and serves clients worldwide. Beyond finance, Cohen is also known for his philanthropy, extensive modern art collection, and as the owner and CEO of Major League Baseball's New York Mets, reflecting his wide-ranging influence in both business and culture His email is . Check out  Call at  or . The firm's value is $3.14 billion.\n"
          ]
        }
      ]
    }
  ]
}