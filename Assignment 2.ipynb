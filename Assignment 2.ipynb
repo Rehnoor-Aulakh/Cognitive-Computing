{
 "cells": [
  {
   "cell_type": "code",
   "execution_count": 7,
   "id": "40ea689d-9917-487f-899a-3f68a89d1d33",
   "metadata": {},
   "outputs": [
    {
     "name": "stdout",
     "output_type": "stream",
     "text": [
      "[30, 40, 50, 60, 70, 80, 200, 300]\n",
      "[300, 200, 80, 70, 60, 50, 40, 30]\n"
     ]
    }
   ],
   "source": [
    "#Q1\n",
    "\n",
    "list=[10,20,30,40,50,60,70,80]\n",
    "\n",
    "list.append(200)\n",
    "list.append(300)\n",
    "\n",
    "list.remove(10)\n",
    "list.remove(20)\n",
    "\n",
    "list.sort()\n",
    "print(list)\n",
    "list.sort(reverse=True)\n",
    "print(list)"
   ]
  },
  {
   "cell_type": "code",
   "execution_count": 38,
   "id": "cd52029e-bf13-4742-8d1d-30c48d27924c",
   "metadata": {},
   "outputs": [
    {
     "name": "stdout",
     "output_type": "stream",
     "text": [
      "Maximum Score is  92  and index is  5\n",
      "Lowest Score is  45  and it appears  2  times\n"
     ]
    },
    {
     "name": "stdin",
     "output_type": "stream",
     "text": [
      "Enter Number to search in the tuple:  1\n"
     ]
    },
    {
     "name": "stdout",
     "output_type": "stream",
     "text": [
      "1 not found in the tuple\n"
     ]
    }
   ],
   "source": [
    "#Q2\n",
    "\n",
    "marks=(45,89.5,76,45.4,89,92,58,45)\n",
    "\n",
    "print(\"Maximum Score is \",max(marks),\" and index is \",marks.index(max(marks)))\n",
    "\n",
    "print(\"Lowest Score is \",min(marks), \" and it appears \",marks.count(min(marks)),\" times\")\n",
    "\n",
    "#reversing the tuple and returning as list\n",
    "\n",
    "marks_list=list(marks[::-1])\n",
    "print(marks_list)\n",
    "\n",
    "x=int(input(\"Enter Number to search in the tuple: \"))\n",
    "try:\n",
    "    index=marks.index(x)\n",
    "    print(f\"{x} found at index {index}\")\n",
    "except ValueError:\n",
    "    print(f\"{x} not found in the tuple\")    \n",
    "    \n"
   ]
  },
  {
   "cell_type": "code",
   "execution_count": 66,
   "id": "ac1ad7ab-0247-47f8-bcb8-ed36813d0cdd",
   "metadata": {},
   "outputs": [
    {
     "name": "stdout",
     "output_type": "stream",
     "text": [
      "49 Even Numbers\n",
      "51 Odd Numbers\n",
      "Number of Prime Numbers are  19\n"
     ]
    }
   ],
   "source": [
    "#Q3\n",
    "import random\n",
    "list=[]\n",
    "for i in range(1,101):\n",
    "    x=random.randint(100,900)\n",
    "    list.append(x)\n",
    "#finding odd and even numbers\n",
    "odd=0\n",
    "even=0\n",
    "for i in list:\n",
    "    if(i%2==0):\n",
    "        even+=1\n",
    "    else:\n",
    "        odd+=1\n",
    "print(f\"{even} Even Numbers\\n{odd} Odd Numbers\")\n",
    "\n",
    "#finding number of prime numbers\n",
    "prime=0\n",
    "flag=True\n",
    "for i in list:\n",
    "    flag=True\n",
    "    for x in range(2,i):\n",
    "        if(i%x==0):\n",
    "            flag=False\n",
    "            break\n",
    "    if(flag):\n",
    "        prime+=1\n",
    "print(\"Number of Prime Numbers are \",prime)\n",
    "            "
   ]
  },
  {
   "cell_type": "code",
   "execution_count": 94,
   "id": "6534c3ce-9541-4e79-9ff5-0be66818965b",
   "metadata": {},
   "outputs": [
    {
     "name": "stdout",
     "output_type": "stream",
     "text": [
      "{34, 45, 78, 23, 56, 90}\n",
      "{34, 45, 78, 23, 56, 90}\n",
      "{90, 78}\n",
      "{90, 78}\n",
      "{34, 45, 23, 56}\n",
      "{34, 45, 23, 56}\n",
      "False\n",
      "False\n"
     ]
    },
    {
     "name": "stdin",
     "output_type": "stream",
     "text": [
      "Enter the value you want to remove from Set A:  34\n"
     ]
    },
    {
     "name": "stdout",
     "output_type": "stream",
     "text": [
      "{56, 90, 78}\n"
     ]
    }
   ],
   "source": [
    "#Q4\n",
    "A = {34, 56, 78, 90}\n",
    "B = {78, 45, 90, 23}\n",
    "\n",
    "#Finding union and intersection of these two sets\n",
    "\n",
    "print(A|B)\n",
    "print(A.union(B))\n",
    "\n",
    "print(A&B)\n",
    "print(A.intersection(B))\n",
    "\n",
    "#Finding Symmetric Differece i.e. elements unique to each set\n",
    "print(A^B) #prints only unique elements of A and B\n",
    "print(A.symmetric_difference(B))\n",
    "\n",
    "#Checking if scores of A are subset of scores of B\n",
    "print(A.issubset(B))\n",
    "#Checking if B is superset of A\n",
    "print(B.issuperset(A))\n",
    "\n",
    "x=int(input(\"Enter the value you want to remove from Set A: \"))\n",
    "#Method 1:\n",
    "try:\n",
    "    A.remove(x)\n",
    "    print(f\"{x} removed from A\")\n",
    "except KeyError:\n",
    "    print(f\"{x} not found in A\")\n",
    "\n",
    "#Method 2:\n",
    "# A.discard(x)\n",
    "# print(A)\n",
    "\n"
   ]
  },
  {
   "cell_type": "code",
   "execution_count": 100,
   "id": "d2bf943b-31e7-417f-80cd-3839bb27052e",
   "metadata": {},
   "outputs": [
    {
     "name": "stdout",
     "output_type": "stream",
     "text": [
      "{'name': 'Kelly', 'age': 25, 'salary': 8000, 'city': 'New York'}\n"
     ]
    }
   ],
   "source": [
    "#Q5\n",
    "sample_dict={\n",
    "    \"name\":\"Kelly\",\n",
    "    \"age\":25,\n",
    "    \"salary\":8000,\n",
    "    \"city\":\"New York\"\n",
    "}\n",
    "print(sample_dict)\n",
    "\n",
    "#now we need to change the \"city\" key to \"location\", first get the value\n",
    "value=sample_dict[\"city\"]"
   ]
  },
  {
   "cell_type": "code",
   "execution_count": null,
   "id": "091a535e-80eb-486a-8f45-deea374d6721",
   "metadata": {},
   "outputs": [],
   "source": []
  }
 ],
 "metadata": {
  "kernelspec": {
   "display_name": "Python 3 (ipykernel)",
   "language": "python",
   "name": "python3"
  },
  "language_info": {
   "codemirror_mode": {
    "name": "ipython",
    "version": 3
   },
   "file_extension": ".py",
   "mimetype": "text/x-python",
   "name": "python",
   "nbconvert_exporter": "python",
   "pygments_lexer": "ipython3",
   "version": "3.12.4"
  }
 },
 "nbformat": 4,
 "nbformat_minor": 5
}
